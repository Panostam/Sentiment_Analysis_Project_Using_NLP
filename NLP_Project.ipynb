{
 "cells": [
  {
   "cell_type": "markdown",
   "metadata": {},
   "source": [
    "# Sentiment_Analysis_Project_Using_NLP"
   ]
  },
  {
   "cell_type": "markdown",
   "metadata": {},
   "source": [
    "#### Summary: Development of a model that can predict whether the buyers of a certain product are satisfied with the product or not based on their product reviews. In this project natural language processing is going to be utilized to perform sentiment analysis on the given reviews. The project is organized as follows: (a)  data processing and exploratory data analysis, (b) natural language processing and tokenization, (c) development of a Naive Bayes classifier model, (d) development of a logistic regression classifier."
   ]
  },
  {
   "cell_type": "markdown",
   "metadata": {},
   "source": [
    "Introduction:\n",
    "* Natural language processing can be used to build predictive models to perform sentiment analysis on social media posts and reviews and predict if customers are happy or not.\n",
    "* Natural language processors work by converting words into numbers followed by training machine learning models to make predictions.\n",
    "* That way, it is possible for companies to know if their customers are satisfied or not without manually going through massive numbers of tweets or reviews. \n"
   ]
  },
  {
   "cell_type": "markdown",
   "metadata": {},
   "source": [
    "### In this project the public relations department of Amazon collected extensive data on their customers, such as reviews about their Amazon Alexa product in text format, and wants based on that reviews to predict whether their customers are satisfied with the product or not.  "
   ]
  },
  {
   "cell_type": "markdown",
   "metadata": {},
   "source": [
    "Data information:\n",
    "This dataset consists of a nearly 3000 Amazon customer reviews (input text), star ratings, date of review, variant and feedback of various amazon Alexa products like Alexa Echo, Echo dots, Alexa Firesticks etc.\n",
    "**Comment:** The feeback columns can only take binary values. In particular, feeback=1 when the rating is either 4 or  "
   ]
  }
 ],
 "metadata": {
  "kernelspec": {
   "display_name": "Python 3",
   "language": "python",
   "name": "python3"
  },
  "language_info": {
   "codemirror_mode": {
    "name": "ipython",
    "version": 3
   },
   "file_extension": ".py",
   "mimetype": "text/x-python",
   "name": "python",
   "nbconvert_exporter": "python",
   "pygments_lexer": "ipython3",
   "version": "3.8.3"
  }
 },
 "nbformat": 4,
 "nbformat_minor": 4
}
